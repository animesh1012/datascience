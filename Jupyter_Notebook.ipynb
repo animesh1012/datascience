{
 "cells": [
  {
   "cell_type": "markdown",
   "metadata": {},
   "source": [
    "<center>\n",
    "    <img src=\"https://s3-api.us-geo.objectstorage.softlayer.net/cf-courses-data/CognitiveClass/Logos/organization_logo/organization_logo.png\" width=\"300\" alt=\"cognitiveclass.ai logo\"  />\n",
    "</center>\n"
   ]
  },
  {
   "cell_type": "markdown",
   "metadata": {},
   "source": [
    "#### Add your code below following the instructions given in the course\n"
   ]
  },
  {
   "cell_type": "markdown",
   "metadata": {},
   "source": [
    "# My Jupyter Notebook on IBM Watson Studio"
   ]
  },
  {
   "cell_type": "markdown",
   "metadata": {},
   "source": [
    "**Animesh Tripathi**<br>\n",
    "    I want to be a Data Scientists"
   ]
  },
  {
   "cell_type": "markdown",
   "metadata": {},
   "source": [
    "*I am interested in data science because I love Mathematics,Statistics and Python Programming and excited to uncover insight hidden in data*"
   ]
  },
  {
   "cell_type": "markdown",
   "metadata": {},
   "source": [
    "### Function func(n) will return sum of first 'n' natural numbers,"
   ]
  },
  {
   "cell_type": "code",
   "execution_count": 5,
   "metadata": {},
   "outputs": [
    {
     "name": "stdout",
     "output_type": "stream",
     "text": [
      "5050.0\n"
     ]
    }
   ],
   "source": [
    "def func(n):\n",
    "    return n*(n+1)/2\n",
    "print(func(100))"
   ]
  },
  {
   "cell_type": "markdown",
   "metadata": {},
   "source": [
    "Horizontal Rule<hr>\n",
    "<ol>\n",
    "<li>Python</li>\n",
    "<li>SQL</li>\n",
    "<li>Java</li>\n",
    "</ol>\n",
    "<ul>\n",
    "    <li>Data</li>\n",
    "    <li>Mathematics</li>\n",
    "    <li>Stats</li>\n",
    "    <li>Programming</li>\n",
    "</ul>\n",
    "\n",
    "<table style=\"width:20%\">\n",
    "<tr>\n",
    "<th>Name</th>\n",
    "<th>Address</th>\n",
    "<th>Salary</th>\n",
    "</tr>\n",
    "\n",
    "<tr>\n",
    "<td>Animesh</td>\n",
    "<td>Brisbane</td>\n",
    "<td>6000</td>\n",
    "</tr>\n",
    "\n",
    "<tr>\n",
    "<td>Ankush</td>\n",
    "<td>Sydney</td>\n",
    "<td>4000</td>\n",
    "</tr>\n",
    "</table>\n",
    "\n",
    "<blockquote>This is blocked quotes</blockquote>\n",
    "\n",
    "<code>\n",
    "    print(\"Python Code\")\n",
    "    print(\"Hello World\")\n",
    "    </code>\n",
    "    \n",
    "~~This was strike through text~~<br>\n",
    "<mark>Highlighted text</mark>"
   ]
  }
 ],
 "metadata": {
  "kernelspec": {
   "display_name": "Python",
   "language": "python",
   "name": "conda-env-python-py"
  },
  "language_info": {
   "codemirror_mode": {
    "name": "ipython",
    "version": 3
   },
   "file_extension": ".py",
   "mimetype": "text/x-python",
   "name": "python",
   "nbconvert_exporter": "python",
   "pygments_lexer": "ipython3",
   "version": "3.7.12"
  }
 },
 "nbformat": 4,
 "nbformat_minor": 4
}
